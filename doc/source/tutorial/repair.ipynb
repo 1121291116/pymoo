{
 "cells": [
  {
   "cell_type": "markdown",
   "metadata": {
    "raw_mimetype": "text/restructuredtext"
   },
   "source": [
    ".. _nb_repair:"
   ]
  },
  {
   "cell_type": "markdown",
   "metadata": {},
   "source": [
    "## Repair Operator\n",
    "\n",
    "The repair operator is mostly problem dependent. Most commonly it is used to make sure the algorithm is only searching in the feasible space. It is applied after the offsprings have been reproduced. In the following, we are using the knapsack problem to demonstrate the repair operator in *pymoo*.\n",
    "\n"
   ]
  },
  {
   "cell_type": "markdown",
   "metadata": {},
   "source": [
    "In the well-known **Knapsack Problem**. In this problem, a knapsack has to be filled with items without violating the maximum weight constraint. Each item $j$ has a value $b_j \\geq 0$  and a weight $w_j \\geq 0$ where $j \\in \\{1, .., m\\}$. The binary decision vector $z = (z_1, .., z_m)$ defines, if an item is picked or not. The aim is to maximize the profit $g(z)$:\n",
    "\n",
    "\\begin{eqnarray}\n",
    "max & & g(z) \\\\[2mm] \\notag \n",
    "\\text{s.t.} & & \\sum_{j=1}^m z_j \\, w_j \\leq Q \\\\[1mm] \\notag \n",
    "& & z = (z_1, .., z_m) \\in \\mathbb{B}^m \\\\[1mm] \\notag \n",
    "g(z) & = & \\sum_{j=1}^{m}  z_j \\, b_j \\\\[2mm] \\notag \n",
    "\\end{eqnarray}\n",
    "\n",
    "\n",
    "A simple GA will have some infeasible evluations in the beginning and then concentrate on the infeasible space.\n"
   ]
  },
  {
   "cell_type": "code",
   "execution_count": 1,
   "metadata": {},
   "outputs": [
    {
     "name": "stdout",
     "output_type": "stream",
     "text": [
      "======================================================================\n",
      "n_gen | n_eval  | cv (min/avg)                        | favg  | fopt \n",
      "======================================================================\n",
      "1     | 200     | 2.3600000000E+02 / 5.1851000000E+02 | -     | -    \n",
      "2     | 400     | 8.4000000000E+01 / 3.8401000000E+02 | -     | -    \n",
      "3     | 600     | 7.6000000000E+01 / 2.8355000000E+02 | -     | -    \n",
      "4     | 800     | 1.0000000000E+01 / 2.0667000000E+02 | -     | -    \n",
      "5     | 1000    | 0.00000000000000 / 1.3477000000E+02 | -344.50000000000000 | -355.00000000000000\n",
      "6     | 1200    | 0.00000000000000 / 8.2935000000E+01 | -274.69230769230768 | -415.00000000000000\n",
      "7     | 1400    | 0.00000000000000 / 4.4475000000E+01 | -272.95238095238096 | -478.00000000000000\n",
      "8     | 1600    | 0.00000000000000 / 1.3360000000E+01 | -283.22916666666669 | -503.00000000000000\n",
      "9     | 1800    | 0.00000000000000 / 0.19500000000000 | -277.66489361702128 | -516.00000000000000\n",
      "10    | 2000    | 0.00000000000000 / 0.00000000000000 | -338.85500000000002 | -537.00000000000000\n"
     ]
    }
   ],
   "source": [
    "from pymoo.factory import get_algorithm, get_crossover, get_mutation, get_sampling\n",
    "from pymoo.optimize import minimize\n",
    "from pymoo.problems.single.knapsack import create_random_knapsack_problem\n",
    "\n",
    "problem = create_random_knapsack_problem(30)\n",
    "\n",
    "algorithm = get_algorithm(\"ga\",\n",
    "                       pop_size=200,\n",
    "                       sampling=get_sampling(\"bin_random\"),\n",
    "                       crossover=get_crossover(\"bin_hux\"),\n",
    "                       mutation=get_mutation(\"bin_bitflip\"),\n",
    "                       elimate_duplicates=True)\n",
    "\n",
    "res = minimize(problem,\n",
    "               algorithm,\n",
    "               termination=('n_gen', 10),\n",
    "               verbose=True)"
   ]
  },
  {
   "cell_type": "markdown",
   "metadata": {},
   "source": [
    "\n",
    "Because the constraint $\\sum_{j=1}^m z_j \\, w_j \\leq Q$ is fairly easy to satisfy. Therefore, we can make sure before evaluating the objective function, that this constraint is not violated by repairing the individual.\n",
    "A repair class has to be defined and the population are given as input. The repaired population has to be returned."
   ]
  },
  {
   "cell_type": "code",
   "execution_count": 2,
   "metadata": {},
   "outputs": [],
   "source": [
    "import numpy as np\n",
    "from pymoo.model.repair import Repair\n",
    "\n",
    "\n",
    "class ConsiderMaximumWeightRepair(Repair):\n",
    "\n",
    "    def _do(self, problem, pop, **kwargs):\n",
    "        \n",
    "        # maximum capacity for the problem\n",
    "        Q = problem.C\n",
    "        \n",
    "        # the packing plan for the whole population (each row one individual)\n",
    "        Z = pop.get(\"X\")\n",
    "        \n",
    "        # the corresponding weight of each individual\n",
    "        weights = (Z * problem.W).sum(axis=1)\n",
    "        \n",
    "        # now repair each indvidiual i\n",
    "        for i in range(len(Z)):\n",
    "            \n",
    "            # the packing plan for i\n",
    "            z = Z[i]\n",
    "            \n",
    "            # while the maximum capacity violation holds\n",
    "            while weights[i] > Q:\n",
    "                \n",
    "                # randomly select an item currently picked\n",
    "                item_to_remove = np.random.choice(np.where(z)[0])\n",
    "                \n",
    "                # and remove it\n",
    "                z[item_to_remove] = False\n",
    "                \n",
    "                # adjust the weight\n",
    "                weights[i] -= problem.W[item_to_remove]\n",
    "          \n",
    "        # set the design variables for the population\n",
    "        pop.set(\"X\", Z)\n",
    "        return pop"
   ]
  },
  {
   "cell_type": "code",
   "execution_count": 3,
   "metadata": {},
   "outputs": [
    {
     "name": "stdout",
     "output_type": "stream",
     "text": [
      "======================================================================\n",
      "n_gen | n_eval  | cv (min/avg)                        | favg             | fopt            \n",
      "======================================================================\n",
      "1     | 200     | 0.00000000000000 / 0.00000000000000 | -127.09000000000000 | -396.00000000000000\n",
      "2     | 400     | 0.00000000000000 / 0.00000000000000 | -225.65000000000001 | -510.00000000000000\n",
      "3     | 600     | 0.00000000000000 / 0.00000000000000 | -291.05500000000001 | -510.00000000000000\n",
      "4     | 800     | 0.00000000000000 / 0.00000000000000 | -342.62000000000000 | -555.00000000000000\n",
      "5     | 1000    | 0.00000000000000 / 0.00000000000000 | -386.74500000000000 | -579.00000000000000\n",
      "6     | 1200    | 0.00000000000000 / 0.00000000000000 | -424.20999999999998 | -579.00000000000000\n",
      "7     | 1400    | 0.00000000000000 / 0.00000000000000 | -456.69999999999999 | -640.00000000000000\n"
     ]
    },
    {
     "name": "stdout",
     "output_type": "stream",
     "text": [
      "8     | 1600    | 0.00000000000000 / 0.00000000000000 | -492.25000000000000 | -670.00000000000000\n",
      "9     | 1800    | 0.00000000000000 / 0.00000000000000 | -518.85000000000002 | -670.00000000000000\n",
      "10    | 2000    | 0.00000000000000 / 0.00000000000000 | -541.68499999999995 | -670.00000000000000\n"
     ]
    }
   ],
   "source": [
    "algorithm.repair = ConsiderMaximumWeightRepair()\n",
    "\n",
    "res = minimize(problem,\n",
    "               algorithm,\n",
    "               termination=('n_gen', 10),\n",
    "               verbose=True)\n"
   ]
  },
  {
   "cell_type": "markdown",
   "metadata": {},
   "source": [
    "As it can be seen, the repair operator makes sure no infeasible solution is evaluated. Even though this exapmle seems to be quite easy, the repair operator makes especially sense for more complex constraints where domain specific knowledge is known."
   ]
  },
  {
   "cell_type": "code",
   "execution_count": null,
   "metadata": {},
   "outputs": [],
   "source": []
  }
 ],
 "metadata": {
  "kernelspec": {
   "display_name": "Python 3",
   "language": "python",
   "name": "python3"
  },
  "language_info": {
   "codemirror_mode": {
    "name": "ipython",
    "version": 3
   },
   "file_extension": ".py",
   "mimetype": "text/x-python",
   "name": "python",
   "nbconvert_exporter": "python",
   "pygments_lexer": "ipython3",
   "version": "3.7.3"
  }
 },
 "nbformat": 4,
 "nbformat_minor": 2
}
