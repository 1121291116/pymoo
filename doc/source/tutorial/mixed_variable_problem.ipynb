{
 "cells": [
  {
   "cell_type": "markdown",
   "metadata": {
    "raw_mimetype": "text/restructuredtext"
   },
   "source": [
    ".. _nb_mixed_variable:"
   ]
  },
  {
   "cell_type": "markdown",
   "metadata": {},
   "source": [
    "## Mixed Variable Problem\n",
    "\n",
    "In some cases variable might have different types, some might be real and others integer valued. For those cases, different evolutionary operators must be applied to different type of variables. In *pymoo* this is supported by instantiating operators with a mask. Let us consider the following optimization problem with two variables:\n"
   ]
  },
  {
   "cell_type": "code",
   "execution_count": 1,
   "metadata": {},
   "outputs": [],
   "source": [
    "import numpy as np\n",
    "\n",
    "from pymoo.model.problem import Problem\n",
    "\n",
    "class MyProblem(Problem):\n",
    "\n",
    "    def __init__(self):\n",
    "        super().__init__(n_var=2, n_obj=1, n_constr=1, xl=0, xu=10)\n",
    "\n",
    "    def _evaluate(self, x, out, *args, **kwargs):\n",
    "        out[\"F\"] = - np.min(x * [3, 1], axis=1)\n",
    "        out[\"G\"] = x[:, 0] + x[:, 1] - 10"
   ]
  },
  {
   "cell_type": "markdown",
   "metadata": {},
   "source": [
    "Where we would like to keep the first variable in integer and the second variable a real value. Therefore, we first define a mask that defines the type for each variable:"
   ]
  },
  {
   "cell_type": "code",
   "execution_count": 2,
   "metadata": {},
   "outputs": [],
   "source": [
    "# if the first variable is an integer and the second a real value\n",
    "mask = [\"int\", \"real\"]\n",
    "\n",
    "# e.g. if first two are integers and third real it would be\n",
    "# mask = [\"int\", \"int\", real\"]\n",
    "# for the purpose of plotting we limit us to two variables here"
   ]
  },
  {
   "cell_type": "markdown",
   "metadata": {},
   "source": [
    "Furthermore, all operators which are necessary to run the algorithm must be defined. The mixed variable classes allow to reuse existing operator and apply in inside the mask during running time. The keys of the dictionary must match with the keywords used in the mask. Internally, the mating considers each type of the mask separately, applies the operator and finally concatenates the results. "
   ]
  },
  {
   "cell_type": "code",
   "execution_count": 3,
   "metadata": {},
   "outputs": [],
   "source": [
    "from pymoo.factory import get_sampling, get_crossover, get_mutation\n",
    "from pymoo.operators.mixed_variable_operator import MixedVariableSampling, MixedVariableMutation, MixedVariableCrossover\n",
    "\n",
    "sampling = MixedVariableSampling(mask, {\n",
    "    \"real\": get_sampling(\"real_random\"),\n",
    "    \"int\": get_sampling(\"int_random\")\n",
    "})\n",
    "\n",
    "crossover = MixedVariableCrossover(mask, {\n",
    "    \"real\": get_crossover(\"real_sbx\", prob=1.0, eta=3.0),\n",
    "    \"int\": get_crossover(\"int_sbx\", prob=1.0, eta=3.0)\n",
    "})\n",
    "\n",
    "mutation = MixedVariableMutation(mask, {\n",
    "    \"real\": get_mutation(\"real_pm\", eta=3.0),\n",
    "    \"int\": get_mutation(\"int_pm\", eta=3.0)\n",
    "})"
   ]
  },
  {
   "cell_type": "markdown",
   "metadata": {},
   "source": [
    "Finally, as usual the optimization method is called with the operators defined above:"
   ]
  },
  {
   "cell_type": "code",
   "execution_count": 4,
   "metadata": {},
   "outputs": [
    {
     "name": "stdout",
     "output_type": "stream",
     "text": [
      "Best solution found: [3 6.994769535604938]\n",
      "Function value: [-6.994769535604938]\n",
      "Constraint violation: [-0.0]\n"
     ]
    }
   ],
   "source": [
    "import numpy as np\n",
    "\n",
    "from pymoo.factory import get_algorithm, get_crossover, get_mutation, get_sampling\n",
    "from pymoo.optimize import minimize\n",
    "\n",
    "\n",
    "method = get_algorithm(\"ga\",\n",
    "                       pop_size=20,\n",
    "                       sampling=sampling,\n",
    "                       crossover=crossover,\n",
    "                       mutation=mutation,\n",
    "                       elimate_duplicates=True,\n",
    "                       )\n",
    "\n",
    "res = minimize(MyProblem(),\n",
    "               method,\n",
    "               termination=('n_gen', 200),\n",
    "               seed=1,\n",
    "               save_history=True\n",
    "               )\n",
    "\n",
    "print(\"Best solution found: %s\" % res.X)\n",
    "print(\"Function value: %s\" % res.F)\n",
    "print(\"Constraint violation: %s\" % res.CV)\n"
   ]
  },
  {
   "cell_type": "code",
   "execution_count": 5,
   "metadata": {},
   "outputs": [
    {
     "data": {
      "image/png": "[encoded data removed]",
      "text/plain": [
       "<Figure size 432x288 with 1 Axes>"
      ]
     },
     "metadata": {
      "image/png": {
       "height": 250,
       "width": 370
      },
      "needs_background": "light"
     },
     "output_type": "display_data"
    }
   ],
   "source": [
    "import matplotlib.pyplot as plt\n",
    "from pymoo.util import plotting\n",
    "\n",
    "_X = np.row_stack([a.pop.get(\"X\") for a in res.history])\n",
    "feasible = np.row_stack([a.pop.get(\"feasible\") for a in res.history])[:, 0]\n",
    "\n",
    "plotting.plot(_X[feasible], _X[np.logical_not(feasible)], res.X[None,:]\n",
    "              , labels=[\"Feasible\", \"Infeasible\", \"Best\"])"
   ]
  }
 ],
 "metadata": {
  "kernelspec": {
   "display_name": "Python 3",
   "language": "python",
   "name": "python3"
  },
  "language_info": {
   "codemirror_mode": {
    "name": "ipython",
    "version": 3
   },
   "file_extension": ".py",
   "mimetype": "text/x-python",
   "name": "python",
   "nbconvert_exporter": "python",
   "pygments_lexer": "ipython3",
   "version": "3.7.3"
  }
 },
 "nbformat": 4,
 "nbformat_minor": 2
}
