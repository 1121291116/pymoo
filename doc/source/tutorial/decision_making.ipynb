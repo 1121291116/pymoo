{
 "cells": [
  {
   "cell_type": "markdown",
   "metadata": {
    "raw_mimetype": "text/restructuredtext"
   },
   "source": [
    ".. _nb_decision_making:"
   ]
  },
  {
   "cell_type": "markdown",
   "metadata": {},
   "source": [
    "## Decision Making"
   ]
  },
  {
   "cell_type": "code",
   "execution_count": 3,
   "metadata": {},
   "outputs": [
    {
     "name": "stdout",
     "output_type": "stream",
     "text": [
      "[[1.  0. ]\n",
      " [0.9 0.1]\n",
      " [0.7 0.3]\n",
      " [0.5 0.5]\n",
      " [0.4 0.6]\n",
      " [0.3 0.7]\n",
      " [0.1 0.9]\n",
      " [0.  1. ]]\n",
      "[0.7 0.3]\n"
     ]
    }
   ],
   "source": [
    "import numpy as np\n",
    "from pymoo.dm.pseudo_weights import PseudoWeights\n",
    "\n",
    "points = np.array([[0.0, 1.0],\n",
    "                   [0.1, 0.9],\n",
    "                   [0.3, 0.7],\n",
    "                   [0.5, 0.5],\n",
    "                   [0.6, 0.4],\n",
    "                   [0.7, 0.3],\n",
    "                   [0.9, 0.1],\n",
    "                   [1.0, 0.0],\n",
    "                   ])\n",
    "\n",
    "pw = PseudoWeights(np.array([0.25, 0.75]))\n",
    "I, pseudo_weights = pw.do(points, return_pseudo_weights=True)\n",
    "\n",
    "print(pseudo_weights)\n",
    "\n",
    "print(points[I])\n",
    "\n"
   ]
  },
  {
   "cell_type": "code",
   "execution_count": null,
   "metadata": {},
   "outputs": [],
   "source": []
  }
 ],
 "metadata": {
  "kernelspec": {
   "display_name": "Python 3",
   "language": "python",
   "name": "python3"
  },
  "language_info": {
   "codemirror_mode": {
    "name": "ipython",
    "version": 3
   },
   "file_extension": ".py",
   "mimetype": "text/x-python",
   "name": "python",
   "nbconvert_exporter": "python",
   "pygments_lexer": "ipython3",
   "version": "3.7.3"
  }
 },
 "nbformat": 4,
 "nbformat_minor": 2
}
