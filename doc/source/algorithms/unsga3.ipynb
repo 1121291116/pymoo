{
 "cells": [
  {
   "cell_type": "raw",
   "metadata": {
    "raw_mimetype": "text/restructuredtext"
   },
   "source": [
    ".. _nb_unsga3:"
   ]
  },
  {
   "cell_type": "markdown",
   "metadata": {},
   "source": [
    "## U-NSGA-III\n",
    "\n",
    "\n",
    "The algorithm is implemented based on <cite data-cite=\"unsga3\"></cite>. NSGA-III selects parents randomly for mating. It has been shown that tournament selection performs better than random selection. The *U* stands for *unified* and increases the performance of NSGA-III by introducing tournament pressure. \n",
    "\n",
    "The mating selections works as follows:\n"
   ]
  },
  {
   "cell_type": "markdown",
   "metadata": {},
   "source": [
    "<div style=\"display: block;margin-left: auto;margin-right: auto;width: 45%;\">\n",
    "![unsga3_mating](../resources/images/unsga3_mating.png)\n",
    "</div>"
   ]
  },
  {
   "cell_type": "markdown",
   "metadata": {},
   "source": [
    " "
   ]
  },
  {
   "cell_type": "markdown",
   "metadata": {},
   "source": [
    "### Example"
   ]
  },
  {
   "cell_type": "code",
   "execution_count": 1,
   "metadata": {
    "code": "algorithms/usage_unsga3.py",
    "section": "unsga3"
   },
   "outputs": [
    {
     "name": "stdout",
     "output_type": "stream",
     "text": [
      "UNSGA3: Best solution found: \n",
      "X = [-0.06226914 -0.02635548  0.04835914  0.04587484 -0.00342836  0.04139137\n",
      " -0.11567079  0.05083335  0.04473939  0.03403337  0.02340945  0.14389873\n",
      " -0.09304084  0.0404682   0.11367175  0.04448061 -0.03074849  0.07353561\n",
      "  0.04196297 -0.0241953  -0.08249494  0.06459475 -0.08846795 -0.05589083\n",
      " -0.04345742 -0.02807542 -0.02456324 -0.02577642 -0.06387265  0.00758406]\n",
      "F = [0.43845635]\n"
     ]
    }
   ],
   "source": [
    "from pymoo.optimize import minimize\n",
    "from pymoo.util.reference_direction import UniformReferenceDirectionFactory\n",
    "from pymoo.factory import get_algorithm, get_problem\n",
    "\n",
    "# create the reference directions to be used for the optimization\n",
    "ref_dirs = UniformReferenceDirectionFactory(1, n_points=1).do()\n",
    "\n",
    "# create the algorithm object\n",
    "method = get_algorithm(\"unsga3\",\n",
    "                       pop_size=100,\n",
    "                       ref_dirs=ref_dirs)\n",
    "\n",
    "# execute the optimization\n",
    "res = minimize(get_problem(\"ackley\", n_var=30),\n",
    "               method,\n",
    "               termination=('n_gen', 150),\n",
    "               save_history=True)\n",
    "\n",
    "print(\"UNSGA3: Best solution found: \\nX = %s\\nF = %s\" % (res.X, res.F))"
   ]
  },
  {
   "cell_type": "markdown",
   "metadata": {},
   "source": [
    "U-NSGA-III has for single- and bi-objective problems a tournament pressure which is known to be useful.\n",
    "In the following we provide a quick comparison (here just one run, so not a valid experiment), to see the difference in convergence."
   ]
  },
  {
   "cell_type": "code",
   "execution_count": 2,
   "metadata": {
    "code": "algorithms/usage_unsga3.py",
    "section": "no_unsga3"
   },
   "outputs": [
    {
     "name": "stdout",
     "output_type": "stream",
     "text": [
      "NSGA3: Best solution found: \n",
      "X = [-0.06226914 -0.02635548  0.04835914  0.04587484 -0.00342836  0.04139137\n",
      " -0.11567079  0.05083335  0.04473939  0.03403337  0.02340945  0.14389873\n",
      " -0.09304084  0.0404682   0.11367175  0.04448061 -0.03074849  0.07353561\n",
      "  0.04196297 -0.0241953  -0.08249494  0.06459475 -0.08846795 -0.05589083\n",
      " -0.04345742 -0.02807542 -0.02456324 -0.02577642 -0.06387265  0.00758406]\n",
      "F = [0.43845635]\n"
     ]
    }
   ],
   "source": [
    "_res = minimize(get_problem(\"ackley\", n_var=30),\n",
    "                get_algorithm(\"nsga3\", pop_size=100, ref_dirs=ref_dirs),\n",
    "                termination=('n_gen', 150),\n",
    "                save_history=True)\n",
    "print(\"NSGA3: Best solution found: \\nX = %s\\nF = %s\" % (res.X, res.F))"
   ]
  },
  {
   "cell_type": "code",
   "execution_count": 3,
   "metadata": {
    "code": "algorithms/usage_unsga3.py",
    "section": "unsga3_comp"
   },
   "outputs": [
    {
     "data": {
      "image/png": "[encoded data removed]",
      "text/plain": [
       "<Figure size 432x288 with 1 Axes>"
      ]
     },
     "metadata": {
      "image/png": {
       "height": 277,
       "width": 402
      },
      "needs_background": "light"
     },
     "output_type": "display_data"
    }
   ],
   "source": [
    "import numpy as np\n",
    "import matplotlib.pyplot as plt\n",
    "\n",
    "ret = [np.min(e.pop.get(\"F\")) for e in res.history]\n",
    "_ret = [np.min(e.pop.get(\"F\")) for e in _res.history]\n",
    "\n",
    "plt.plot(np.arange(len(ret)), ret, label=\"unsga3\")\n",
    "plt.plot(np.arange(len(_ret)), _ret, label=\"nsga3\")\n",
    "plt.title(\"Convergence\")\n",
    "plt.xlabel(\"Generation\")\n",
    "plt.ylabel(\"F\")\n",
    "plt.legend()\n",
    "plt.show()"
   ]
  }
 ],
 "metadata": {
  "celltoolbar": "Raw Cell Format",
  "kernelspec": {
   "display_name": "Python 3",
   "language": "python",
   "name": "python3"
  },
  "language_info": {
   "codemirror_mode": {
    "name": "ipython",
    "version": 3
   },
   "file_extension": ".py",
   "mimetype": "text/x-python",
   "name": "python",
   "nbconvert_exporter": "python",
   "pygments_lexer": "ipython3",
   "version": "3.7.3"
  }
 },
 "nbformat": 4,
 "nbformat_minor": 2
}
